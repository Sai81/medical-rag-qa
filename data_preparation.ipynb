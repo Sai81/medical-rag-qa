{
 "cells": [
  {
   "attachments": {},
   "cell_type": "markdown",
   "metadata": {},
   "source": [
    "Creating and storing the documents and data"
   ]
  },
  {
   "cell_type": "code",
   "execution_count": 1,
   "metadata": {},
   "outputs": [],
   "source": [
    "import pandas as pd"
   ]
  },
  {
   "cell_type": "code",
   "execution_count": 23,
   "metadata": {},
   "outputs": [
    {
     "name": "stdout",
     "output_type": "stream",
     "text": [
      "no of rows in DIAGNOSES : 14567\n",
      "no of rows in PROCEDURES : 3882\n"
     ]
    }
   ],
   "source": [
    "diagnoses = pd.read_csv('./data/mimic3/D_ICD_DIAGNOSES.csv')\n",
    "procedures = pd.read_csv('./data/mimic3/D_ICD_PROCEDURES.csv')\n",
    "\n",
    "\n",
    "print(\"no of rows in DIAGNOSES :\", len(diagnoses))\n",
    "print(\"no of rows in PROCEDURES :\", len(procedures))"
   ]
  },
  {
   "cell_type": "code",
   "execution_count": 24,
   "metadata": {},
   "outputs": [
    {
     "data": {
      "text/html": [
       "<div>\n",
       "<style scoped>\n",
       "    .dataframe tbody tr th:only-of-type {\n",
       "        vertical-align: middle;\n",
       "    }\n",
       "\n",
       "    .dataframe tbody tr th {\n",
       "        vertical-align: top;\n",
       "    }\n",
       "\n",
       "    .dataframe thead th {\n",
       "        text-align: right;\n",
       "    }\n",
       "</style>\n",
       "<table border=\"1\" class=\"dataframe\">\n",
       "  <thead>\n",
       "    <tr style=\"text-align: right;\">\n",
       "      <th></th>\n",
       "      <th>row_id</th>\n",
       "      <th>icd9_code</th>\n",
       "      <th>short_title</th>\n",
       "      <th>long_title</th>\n",
       "    </tr>\n",
       "  </thead>\n",
       "  <tbody>\n",
       "    <tr>\n",
       "      <th>0</th>\n",
       "      <td>1</td>\n",
       "      <td>01716</td>\n",
       "      <td>Erythem nod tb-oth test</td>\n",
       "      <td>Erythema nodosum with hypersensitivity reactio...</td>\n",
       "    </tr>\n",
       "    <tr>\n",
       "      <th>1</th>\n",
       "      <td>2</td>\n",
       "      <td>01720</td>\n",
       "      <td>TB periph lymph-unspec</td>\n",
       "      <td>Tuberculosis of peripheral lymph nodes, unspec...</td>\n",
       "    </tr>\n",
       "    <tr>\n",
       "      <th>2</th>\n",
       "      <td>3</td>\n",
       "      <td>01721</td>\n",
       "      <td>TB periph lymph-no exam</td>\n",
       "      <td>Tuberculosis of peripheral lymph nodes, bacter...</td>\n",
       "    </tr>\n",
       "    <tr>\n",
       "      <th>3</th>\n",
       "      <td>4</td>\n",
       "      <td>01722</td>\n",
       "      <td>TB periph lymph-exam unk</td>\n",
       "      <td>Tuberculosis of peripheral lymph nodes, bacter...</td>\n",
       "    </tr>\n",
       "    <tr>\n",
       "      <th>4</th>\n",
       "      <td>5</td>\n",
       "      <td>01723</td>\n",
       "      <td>TB periph lymph-micro dx</td>\n",
       "      <td>Tuberculosis of peripheral lymph nodes, tuberc...</td>\n",
       "    </tr>\n",
       "  </tbody>\n",
       "</table>\n",
       "</div>"
      ],
      "text/plain": [
       "   row_id icd9_code               short_title  \\\n",
       "0       1     01716   Erythem nod tb-oth test   \n",
       "1       2     01720    TB periph lymph-unspec   \n",
       "2       3     01721   TB periph lymph-no exam   \n",
       "3       4     01722  TB periph lymph-exam unk   \n",
       "4       5     01723  TB periph lymph-micro dx   \n",
       "\n",
       "                                          long_title  \n",
       "0  Erythema nodosum with hypersensitivity reactio...  \n",
       "1  Tuberculosis of peripheral lymph nodes, unspec...  \n",
       "2  Tuberculosis of peripheral lymph nodes, bacter...  \n",
       "3  Tuberculosis of peripheral lymph nodes, bacter...  \n",
       "4  Tuberculosis of peripheral lymph nodes, tuberc...  "
      ]
     },
     "execution_count": 24,
     "metadata": {},
     "output_type": "execute_result"
    }
   ],
   "source": [
    "diagnoses.head()"
   ]
  },
  {
   "cell_type": "code",
   "execution_count": 25,
   "metadata": {},
   "outputs": [
    {
     "data": {
      "text/html": [
       "<div>\n",
       "<style scoped>\n",
       "    .dataframe tbody tr th:only-of-type {\n",
       "        vertical-align: middle;\n",
       "    }\n",
       "\n",
       "    .dataframe tbody tr th {\n",
       "        vertical-align: top;\n",
       "    }\n",
       "\n",
       "    .dataframe thead th {\n",
       "        text-align: right;\n",
       "    }\n",
       "</style>\n",
       "<table border=\"1\" class=\"dataframe\">\n",
       "  <thead>\n",
       "    <tr style=\"text-align: right;\">\n",
       "      <th></th>\n",
       "      <th>row_id</th>\n",
       "      <th>icd9_code</th>\n",
       "      <th>short_title</th>\n",
       "      <th>long_title</th>\n",
       "    </tr>\n",
       "  </thead>\n",
       "  <tbody>\n",
       "    <tr>\n",
       "      <th>0</th>\n",
       "      <td>1</td>\n",
       "      <td>1423</td>\n",
       "      <td>Chorioret les xenon coag</td>\n",
       "      <td>Destruction of chorioretinal lesion by xenon a...</td>\n",
       "    </tr>\n",
       "    <tr>\n",
       "      <th>1</th>\n",
       "      <td>2</td>\n",
       "      <td>1424</td>\n",
       "      <td>Chorioret les laser coag</td>\n",
       "      <td>Destruction of chorioretinal lesion by laser p...</td>\n",
       "    </tr>\n",
       "    <tr>\n",
       "      <th>2</th>\n",
       "      <td>3</td>\n",
       "      <td>1425</td>\n",
       "      <td>Chorioret les p/coag NOS</td>\n",
       "      <td>Destruction of chorioretinal lesion by photoco...</td>\n",
       "    </tr>\n",
       "    <tr>\n",
       "      <th>3</th>\n",
       "      <td>4</td>\n",
       "      <td>1426</td>\n",
       "      <td>Chorioret les radiother</td>\n",
       "      <td>Destruction of chorioretinal lesion by radiati...</td>\n",
       "    </tr>\n",
       "    <tr>\n",
       "      <th>4</th>\n",
       "      <td>5</td>\n",
       "      <td>1427</td>\n",
       "      <td>Chorioret les rad implan</td>\n",
       "      <td>Destruction of chorioretinal lesion by implant...</td>\n",
       "    </tr>\n",
       "  </tbody>\n",
       "</table>\n",
       "</div>"
      ],
      "text/plain": [
       "   row_id  icd9_code               short_title  \\\n",
       "0       1       1423  Chorioret les xenon coag   \n",
       "1       2       1424  Chorioret les laser coag   \n",
       "2       3       1425  Chorioret les p/coag NOS   \n",
       "3       4       1426   Chorioret les radiother   \n",
       "4       5       1427  Chorioret les rad implan   \n",
       "\n",
       "                                          long_title  \n",
       "0  Destruction of chorioretinal lesion by xenon a...  \n",
       "1  Destruction of chorioretinal lesion by laser p...  \n",
       "2  Destruction of chorioretinal lesion by photoco...  \n",
       "3  Destruction of chorioretinal lesion by radiati...  \n",
       "4  Destruction of chorioretinal lesion by implant...  "
      ]
     },
     "execution_count": 25,
     "metadata": {},
     "output_type": "execute_result"
    }
   ],
   "source": [
    "procedures.head()"
   ]
  },
  {
   "cell_type": "code",
   "execution_count": 26,
   "metadata": {},
   "outputs": [
    {
     "data": {
      "text/html": [
       "<div>\n",
       "<style scoped>\n",
       "    .dataframe tbody tr th:only-of-type {\n",
       "        vertical-align: middle;\n",
       "    }\n",
       "\n",
       "    .dataframe tbody tr th {\n",
       "        vertical-align: top;\n",
       "    }\n",
       "\n",
       "    .dataframe thead th {\n",
       "        text-align: right;\n",
       "    }\n",
       "</style>\n",
       "<table border=\"1\" class=\"dataframe\">\n",
       "  <thead>\n",
       "    <tr style=\"text-align: right;\">\n",
       "      <th></th>\n",
       "      <th>row_id_x</th>\n",
       "      <th>icd9_code</th>\n",
       "      <th>short_title_x</th>\n",
       "      <th>long_title_x</th>\n",
       "      <th>row_id_y</th>\n",
       "      <th>short_title_y</th>\n",
       "      <th>long_title_y</th>\n",
       "    </tr>\n",
       "  </thead>\n",
       "  <tbody>\n",
       "    <tr>\n",
       "      <th>0</th>\n",
       "      <td>864</td>\n",
       "      <td>1289</td>\n",
       "      <td>Helminthiasis NOS</td>\n",
       "      <td>Helminth infection, unspecified</td>\n",
       "      <td>919</td>\n",
       "      <td>Scleral operation NEC</td>\n",
       "      <td>Other operations on sclera</td>\n",
       "    </tr>\n",
       "    <tr>\n",
       "      <th>1</th>\n",
       "      <td>865</td>\n",
       "      <td>129</td>\n",
       "      <td>Intestin parasitism NOS</td>\n",
       "      <td>Intestinal parasitism, unspecified</td>\n",
       "      <td>136</td>\n",
       "      <td>Rem brain pulse generatr</td>\n",
       "      <td>Removal of cranial neurostimulator pulse gener...</td>\n",
       "    </tr>\n",
       "    <tr>\n",
       "      <th>2</th>\n",
       "      <td>866</td>\n",
       "      <td>1300</td>\n",
       "      <td>Toxoplasm meningoenceph</td>\n",
       "      <td>Meningoencephalitis due to toxoplasmosis</td>\n",
       "      <td>926</td>\n",
       "      <td>Remove FB lens NOS</td>\n",
       "      <td>Removal of foreign body from lens, not otherwi...</td>\n",
       "    </tr>\n",
       "    <tr>\n",
       "      <th>3</th>\n",
       "      <td>867</td>\n",
       "      <td>1301</td>\n",
       "      <td>Toxoplasm conjunctivitis</td>\n",
       "      <td>Conjunctivitis due to toxoplasmosis</td>\n",
       "      <td>927</td>\n",
       "      <td>Magnet remove FB lens</td>\n",
       "      <td>Removal of foreign body from lens with use of ...</td>\n",
       "    </tr>\n",
       "    <tr>\n",
       "      <th>4</th>\n",
       "      <td>868</td>\n",
       "      <td>1302</td>\n",
       "      <td>Toxoplasm chorioretinit</td>\n",
       "      <td>Chorioretinitis due to toxoplasmosis</td>\n",
       "      <td>928</td>\n",
       "      <td>Nonmagnet remove FB lens</td>\n",
       "      <td>Removal of foreign body from lens without use ...</td>\n",
       "    </tr>\n",
       "  </tbody>\n",
       "</table>\n",
       "</div>"
      ],
      "text/plain": [
       "   row_id_x icd9_code             short_title_x  \\\n",
       "0       864      1289         Helminthiasis NOS   \n",
       "1       865       129   Intestin parasitism NOS   \n",
       "2       866      1300   Toxoplasm meningoenceph   \n",
       "3       867      1301  Toxoplasm conjunctivitis   \n",
       "4       868      1302   Toxoplasm chorioretinit   \n",
       "\n",
       "                               long_title_x  row_id_y  \\\n",
       "0           Helminth infection, unspecified       919   \n",
       "1        Intestinal parasitism, unspecified       136   \n",
       "2  Meningoencephalitis due to toxoplasmosis       926   \n",
       "3       Conjunctivitis due to toxoplasmosis       927   \n",
       "4      Chorioretinitis due to toxoplasmosis       928   \n",
       "\n",
       "              short_title_y                                       long_title_y  \n",
       "0     Scleral operation NEC                         Other operations on sclera  \n",
       "1  Rem brain pulse generatr  Removal of cranial neurostimulator pulse gener...  \n",
       "2        Remove FB lens NOS  Removal of foreign body from lens, not otherwi...  \n",
       "3     Magnet remove FB lens  Removal of foreign body from lens with use of ...  \n",
       "4  Nonmagnet remove FB lens  Removal of foreign body from lens without use ...  "
      ]
     },
     "execution_count": 26,
     "metadata": {},
     "output_type": "execute_result"
    }
   ],
   "source": [
    "diagnoses['icd9_code'] = diagnoses['icd9_code'].astype(str)\n",
    "procedures['icd9_code'] = procedures['icd9_code'].astype(str)\n",
    "\n",
    "merged_df = pd.merge(diagnoses, procedures, on='icd9_code', how='inner')\n",
    "\n",
    "merged_df.head()"
   ]
  },
  {
   "cell_type": "code",
   "execution_count": 27,
   "metadata": {},
   "outputs": [
    {
     "data": {
      "text/html": [
       "<div>\n",
       "<style scoped>\n",
       "    .dataframe tbody tr th:only-of-type {\n",
       "        vertical-align: middle;\n",
       "    }\n",
       "\n",
       "    .dataframe tbody tr th {\n",
       "        vertical-align: top;\n",
       "    }\n",
       "\n",
       "    .dataframe thead th {\n",
       "        text-align: right;\n",
       "    }\n",
       "</style>\n",
       "<table border=\"1\" class=\"dataframe\">\n",
       "  <thead>\n",
       "    <tr style=\"text-align: right;\">\n",
       "      <th></th>\n",
       "      <th>icd9_code</th>\n",
       "      <th>diagnoses_short_title</th>\n",
       "      <th>diagnoses_long_title</th>\n",
       "      <th>procedure_short_title</th>\n",
       "      <th>procedure_long_title</th>\n",
       "    </tr>\n",
       "  </thead>\n",
       "  <tbody>\n",
       "    <tr>\n",
       "      <th>0</th>\n",
       "      <td>1289</td>\n",
       "      <td>Helminthiasis NOS</td>\n",
       "      <td>Helminth infection, unspecified</td>\n",
       "      <td>Scleral operation NEC</td>\n",
       "      <td>Other operations on sclera</td>\n",
       "    </tr>\n",
       "    <tr>\n",
       "      <th>1</th>\n",
       "      <td>129</td>\n",
       "      <td>Intestin parasitism NOS</td>\n",
       "      <td>Intestinal parasitism, unspecified</td>\n",
       "      <td>Rem brain pulse generatr</td>\n",
       "      <td>Removal of cranial neurostimulator pulse gener...</td>\n",
       "    </tr>\n",
       "    <tr>\n",
       "      <th>2</th>\n",
       "      <td>1300</td>\n",
       "      <td>Toxoplasm meningoenceph</td>\n",
       "      <td>Meningoencephalitis due to toxoplasmosis</td>\n",
       "      <td>Remove FB lens NOS</td>\n",
       "      <td>Removal of foreign body from lens, not otherwi...</td>\n",
       "    </tr>\n",
       "    <tr>\n",
       "      <th>3</th>\n",
       "      <td>1301</td>\n",
       "      <td>Toxoplasm conjunctivitis</td>\n",
       "      <td>Conjunctivitis due to toxoplasmosis</td>\n",
       "      <td>Magnet remove FB lens</td>\n",
       "      <td>Removal of foreign body from lens with use of ...</td>\n",
       "    </tr>\n",
       "    <tr>\n",
       "      <th>4</th>\n",
       "      <td>1302</td>\n",
       "      <td>Toxoplasm chorioretinit</td>\n",
       "      <td>Chorioretinitis due to toxoplasmosis</td>\n",
       "      <td>Nonmagnet remove FB lens</td>\n",
       "      <td>Removal of foreign body from lens without use ...</td>\n",
       "    </tr>\n",
       "  </tbody>\n",
       "</table>\n",
       "</div>"
      ],
      "text/plain": [
       "  icd9_code     diagnoses_short_title  \\\n",
       "0      1289         Helminthiasis NOS   \n",
       "1       129   Intestin parasitism NOS   \n",
       "2      1300   Toxoplasm meningoenceph   \n",
       "3      1301  Toxoplasm conjunctivitis   \n",
       "4      1302   Toxoplasm chorioretinit   \n",
       "\n",
       "                       diagnoses_long_title     procedure_short_title  \\\n",
       "0           Helminth infection, unspecified     Scleral operation NEC   \n",
       "1        Intestinal parasitism, unspecified  Rem brain pulse generatr   \n",
       "2  Meningoencephalitis due to toxoplasmosis        Remove FB lens NOS   \n",
       "3       Conjunctivitis due to toxoplasmosis     Magnet remove FB lens   \n",
       "4      Chorioretinitis due to toxoplasmosis  Nonmagnet remove FB lens   \n",
       "\n",
       "                                procedure_long_title  \n",
       "0                         Other operations on sclera  \n",
       "1  Removal of cranial neurostimulator pulse gener...  \n",
       "2  Removal of foreign body from lens, not otherwi...  \n",
       "3  Removal of foreign body from lens with use of ...  \n",
       "4  Removal of foreign body from lens without use ...  "
      ]
     },
     "execution_count": 27,
     "metadata": {},
     "output_type": "execute_result"
    }
   ],
   "source": [
    "merged_df.drop(columns=['row_id_x','row_id_y'], inplace=True)\n",
    "merged_df.rename(columns={'short_title_x': 'diagnoses_short_title'}, inplace=True)\n",
    "merged_df.rename(columns={'long_title_x': 'diagnoses_long_title'}, inplace=True)\n",
    "merged_df.rename(columns={'short_title_y': 'procedure_short_title'}, inplace=True)\n",
    "merged_df.rename(columns={'long_title_y': 'procedure_long_title'}, inplace=True)\n",
    "merged_df.head()"
   ]
  },
  {
   "cell_type": "code",
   "execution_count": 31,
   "metadata": {},
   "outputs": [
    {
     "data": {
      "text/plain": [
       "(1453, 5)"
      ]
     },
     "execution_count": 31,
     "metadata": {},
     "output_type": "execute_result"
    }
   ],
   "source": [
    "merged_df.shape"
   ]
  },
  {
   "cell_type": "code",
   "execution_count": 7,
   "metadata": {},
   "outputs": [],
   "source": [
    "merged_df.to_csv('./data/mimic3/merged_data.csv', index=True)"
   ]
  },
  {
   "cell_type": "code",
   "execution_count": 28,
   "metadata": {},
   "outputs": [],
   "source": [
    "file_path = \"./mimic3_sample.txt\"\n",
    "with open(file_path, 'w') as file:\n",
    "    for index, row in merged_df.iterrows():\n",
    "        output = \"\"\n",
    "        output += \"For the icd9_code \"+row['icd9_code']+\", \"\n",
    "        output += \"diagnoses is \"+row['diagnoses_short_title']+\", \"\n",
    "        output += \"which can be elaborated as \"+row['diagnoses_long_title']+\". \"\n",
    "        output += \"The corresponding procedure required to be done after this diagnoses is \"+row['procedure_short_title']+\", \"\n",
    "        output += \"which can be elaborated as \"+row['procedure_long_title']+\".\"\n",
    "        output += \"\\n\\n\"\n",
    "        file.write(output)"
   ]
  },
  {
   "attachments": {},
   "cell_type": "markdown",
   "metadata": {},
   "source": [
    "Making sample queries for the given mimic3 data"
   ]
  },
  {
   "cell_type": "code",
   "execution_count": 2,
   "metadata": {},
   "outputs": [
    {
     "data": {
      "text/html": [
       "<div>\n",
       "<style scoped>\n",
       "    .dataframe tbody tr th:only-of-type {\n",
       "        vertical-align: middle;\n",
       "    }\n",
       "\n",
       "    .dataframe tbody tr th {\n",
       "        vertical-align: top;\n",
       "    }\n",
       "\n",
       "    .dataframe thead th {\n",
       "        text-align: right;\n",
       "    }\n",
       "</style>\n",
       "<table border=\"1\" class=\"dataframe\">\n",
       "  <thead>\n",
       "    <tr style=\"text-align: right;\">\n",
       "      <th></th>\n",
       "      <th>Unnamed: 0</th>\n",
       "      <th>icd9_code</th>\n",
       "      <th>diagnoses_short_title</th>\n",
       "      <th>diagnoses_long_title</th>\n",
       "      <th>procedure_short_title</th>\n",
       "      <th>procedure_long_title</th>\n",
       "    </tr>\n",
       "  </thead>\n",
       "  <tbody>\n",
       "    <tr>\n",
       "      <th>0</th>\n",
       "      <td>0</td>\n",
       "      <td>1289</td>\n",
       "      <td>Helminthiasis NOS</td>\n",
       "      <td>Helminth infection, unspecified</td>\n",
       "      <td>Scleral operation NEC</td>\n",
       "      <td>Other operations on sclera</td>\n",
       "    </tr>\n",
       "    <tr>\n",
       "      <th>1</th>\n",
       "      <td>1</td>\n",
       "      <td>129</td>\n",
       "      <td>Intestin parasitism NOS</td>\n",
       "      <td>Intestinal parasitism, unspecified</td>\n",
       "      <td>Rem brain pulse generatr</td>\n",
       "      <td>Removal of cranial neurostimulator pulse gener...</td>\n",
       "    </tr>\n",
       "    <tr>\n",
       "      <th>2</th>\n",
       "      <td>2</td>\n",
       "      <td>1300</td>\n",
       "      <td>Toxoplasm meningoenceph</td>\n",
       "      <td>Meningoencephalitis due to toxoplasmosis</td>\n",
       "      <td>Remove FB lens NOS</td>\n",
       "      <td>Removal of foreign body from lens, not otherwi...</td>\n",
       "    </tr>\n",
       "    <tr>\n",
       "      <th>3</th>\n",
       "      <td>3</td>\n",
       "      <td>1301</td>\n",
       "      <td>Toxoplasm conjunctivitis</td>\n",
       "      <td>Conjunctivitis due to toxoplasmosis</td>\n",
       "      <td>Magnet remove FB lens</td>\n",
       "      <td>Removal of foreign body from lens with use of ...</td>\n",
       "    </tr>\n",
       "    <tr>\n",
       "      <th>4</th>\n",
       "      <td>4</td>\n",
       "      <td>1302</td>\n",
       "      <td>Toxoplasm chorioretinit</td>\n",
       "      <td>Chorioretinitis due to toxoplasmosis</td>\n",
       "      <td>Nonmagnet remove FB lens</td>\n",
       "      <td>Removal of foreign body from lens without use ...</td>\n",
       "    </tr>\n",
       "  </tbody>\n",
       "</table>\n",
       "</div>"
      ],
      "text/plain": [
       "   Unnamed: 0  icd9_code     diagnoses_short_title  \\\n",
       "0           0       1289         Helminthiasis NOS   \n",
       "1           1        129   Intestin parasitism NOS   \n",
       "2           2       1300   Toxoplasm meningoenceph   \n",
       "3           3       1301  Toxoplasm conjunctivitis   \n",
       "4           4       1302   Toxoplasm chorioretinit   \n",
       "\n",
       "                       diagnoses_long_title     procedure_short_title  \\\n",
       "0           Helminth infection, unspecified     Scleral operation NEC   \n",
       "1        Intestinal parasitism, unspecified  Rem brain pulse generatr   \n",
       "2  Meningoencephalitis due to toxoplasmosis        Remove FB lens NOS   \n",
       "3       Conjunctivitis due to toxoplasmosis     Magnet remove FB lens   \n",
       "4      Chorioretinitis due to toxoplasmosis  Nonmagnet remove FB lens   \n",
       "\n",
       "                                procedure_long_title  \n",
       "0                         Other operations on sclera  \n",
       "1  Removal of cranial neurostimulator pulse gener...  \n",
       "2  Removal of foreign body from lens, not otherwi...  \n",
       "3  Removal of foreign body from lens with use of ...  \n",
       "4  Removal of foreign body from lens without use ...  "
      ]
     },
     "execution_count": 2,
     "metadata": {},
     "output_type": "execute_result"
    }
   ],
   "source": [
    "data_df=pd.read_csv('./data/mimic3/merged_data.csv')\n",
    "data_df.head()"
   ]
  },
  {
   "cell_type": "code",
   "execution_count": 3,
   "metadata": {},
   "outputs": [
    {
     "data": {
      "text/html": [
       "<div>\n",
       "<style scoped>\n",
       "    .dataframe tbody tr th:only-of-type {\n",
       "        vertical-align: middle;\n",
       "    }\n",
       "\n",
       "    .dataframe tbody tr th {\n",
       "        vertical-align: top;\n",
       "    }\n",
       "\n",
       "    .dataframe thead th {\n",
       "        text-align: right;\n",
       "    }\n",
       "</style>\n",
       "<table border=\"1\" class=\"dataframe\">\n",
       "  <thead>\n",
       "    <tr style=\"text-align: right;\">\n",
       "      <th></th>\n",
       "      <th>Unnamed: 0</th>\n",
       "      <th>icd9_code</th>\n",
       "      <th>diagnoses_short_title</th>\n",
       "      <th>diagnoses_long_title</th>\n",
       "      <th>procedure_short_title</th>\n",
       "      <th>procedure_long_title</th>\n",
       "    </tr>\n",
       "  </thead>\n",
       "  <tbody>\n",
       "    <tr>\n",
       "      <th>1448</th>\n",
       "      <td>1448</td>\n",
       "      <td>8744</td>\n",
       "      <td>Open wound of pharynx</td>\n",
       "      <td>Open wound of pharynx, without mention of comp...</td>\n",
       "      <td>Routine chest x-ray</td>\n",
       "      <td>Routine chest x-ray, so described</td>\n",
       "    </tr>\n",
       "    <tr>\n",
       "      <th>1449</th>\n",
       "      <td>1449</td>\n",
       "      <td>8749</td>\n",
       "      <td>Opn wound neck NEC-compl</td>\n",
       "      <td>Open wound of other and unspecified parts of n...</td>\n",
       "      <td>Chest x-ray NEC</td>\n",
       "      <td>Other chest x-ray</td>\n",
       "    </tr>\n",
       "    <tr>\n",
       "      <th>1450</th>\n",
       "      <td>1450</td>\n",
       "      <td>8751</td>\n",
       "      <td>Open wound chest-compl</td>\n",
       "      <td>Open wound of chest (wall), complicated</td>\n",
       "      <td>Perc hepat Cholangiogram</td>\n",
       "      <td>Percutaneous hepatic cholangiogram</td>\n",
       "    </tr>\n",
       "    <tr>\n",
       "      <th>1451</th>\n",
       "      <td>1451</td>\n",
       "      <td>8761</td>\n",
       "      <td>Open wound back-compl</td>\n",
       "      <td>Open wound of back, complicated</td>\n",
       "      <td>Barium swallow</td>\n",
       "      <td>Barium swallow</td>\n",
       "    </tr>\n",
       "    <tr>\n",
       "      <th>1452</th>\n",
       "      <td>1452</td>\n",
       "      <td>8771</td>\n",
       "      <td>Open wound buttock-compl</td>\n",
       "      <td>Open wound of buttock, complicated</td>\n",
       "      <td>C.A.T. scan of kidney</td>\n",
       "      <td>Computerized axial tomography of kidney</td>\n",
       "    </tr>\n",
       "  </tbody>\n",
       "</table>\n",
       "</div>"
      ],
      "text/plain": [
       "      Unnamed: 0  icd9_code     diagnoses_short_title  \\\n",
       "1448        1448       8744     Open wound of pharynx   \n",
       "1449        1449       8749  Opn wound neck NEC-compl   \n",
       "1450        1450       8751    Open wound chest-compl   \n",
       "1451        1451       8761     Open wound back-compl   \n",
       "1452        1452       8771  Open wound buttock-compl   \n",
       "\n",
       "                                   diagnoses_long_title  \\\n",
       "1448  Open wound of pharynx, without mention of comp...   \n",
       "1449  Open wound of other and unspecified parts of n...   \n",
       "1450            Open wound of chest (wall), complicated   \n",
       "1451                    Open wound of back, complicated   \n",
       "1452                 Open wound of buttock, complicated   \n",
       "\n",
       "         procedure_short_title                     procedure_long_title  \n",
       "1448       Routine chest x-ray        Routine chest x-ray, so described  \n",
       "1449           Chest x-ray NEC                        Other chest x-ray  \n",
       "1450  Perc hepat Cholangiogram       Percutaneous hepatic cholangiogram  \n",
       "1451            Barium swallow                           Barium swallow  \n",
       "1452     C.A.T. scan of kidney  Computerized axial tomography of kidney  "
      ]
     },
     "execution_count": 3,
     "metadata": {},
     "output_type": "execute_result"
    }
   ],
   "source": [
    "data_df.tail()"
   ]
  },
  {
   "cell_type": "code",
   "execution_count": 4,
   "metadata": {},
   "outputs": [
    {
     "name": "stdout",
     "output_type": "stream",
     "text": [
      "Superficial foreign body (splinter) of other, multiple, and unspecified sites, without major open wound and without mention of infection\n",
      "Open wound buttock-compl\n",
      "Perc hepat Cholangiogram\n",
      "Microscopic examination of specimen from bladder, urethra, prostate, seminal vesicle, perivesical tissue, and of urine and semen, cell block and Papanicolaou smear\n"
     ]
    }
   ],
   "source": [
    "def greatest_string(str1, str2):\n",
    "    if len(str1) > len(str2):\n",
    "        return str1\n",
    "    else:\n",
    "        return str2\n",
    "\n",
    "longest_diagnoses_short_title = \"\"\n",
    "longest_diagnoses_long_title = \"\"\n",
    "longest_procedure_short_title = \"\"\n",
    "longest_procedure_long_title = \"\"\n",
    "\n",
    "for index, row in data_df.iterrows():\n",
    "    longest_diagnoses_short_title = greatest_string(longest_diagnoses_short_title,row['diagnoses_short_title'])\n",
    "    longest_diagnoses_long_title = greatest_string(longest_diagnoses_long_title,row['diagnoses_long_title'])\n",
    "    longest_procedure_short_title = greatest_string(longest_procedure_short_title,row['procedure_short_title'])\n",
    "    longest_procedure_long_title = greatest_string(longest_procedure_long_title,row['procedure_long_title'])\n",
    "\n",
    "print(longest_diagnoses_long_title)\n",
    "print(longest_diagnoses_short_title)\n",
    "print(longest_procedure_short_title)\n",
    "print(longest_procedure_long_title)"
   ]
  },
  {
   "cell_type": "code",
   "execution_count": 5,
   "metadata": {},
   "outputs": [],
   "source": [
    "from collections import Counter\n",
    "\n",
    "def top_30_words_in_column(all_words):\n",
    "    word_counts = Counter(all_words)\n",
    "    top_10_words = word_counts.most_common(30)\n",
    "    print(\"Top 10 words and their frequencies:\")\n",
    "    for word, count in top_10_words:\n",
    "        print(f\"{word}: {count}\")"
   ]
  },
  {
   "cell_type": "code",
   "execution_count": 6,
   "metadata": {},
   "outputs": [
    {
     "name": "stdout",
     "output_type": "stream",
     "text": [
      "Top 10 words and their frequencies:\n",
      "NEC: 301\n",
      "NOS: 84\n",
      "of: 54\n",
      "les: 48\n",
      "proc: 45\n",
      "&: 39\n",
      "repair: 38\n",
      "biopsy: 37\n",
      "Remov: 36\n",
      "dx: 34\n",
      "Other: 33\n",
      "fx: 30\n",
      "Oth: 29\n",
      "Open: 29\n",
      "w: 26\n",
      "bone: 24\n",
      "fix: 24\n",
      "op: 21\n",
      "tube: 21\n",
      "Insert: 20\n",
      "Micro: 20\n",
      "ext: 19\n",
      "Bact: 19\n",
      "FB: 18\n",
      "Suture: 18\n",
      "rep: 17\n",
      "C: 17\n",
      "operation: 16\n",
      "Remove: 16\n",
      "Lap: 16\n"
     ]
    }
   ],
   "source": [
    "all_words = ' '.join(data_df['procedure_short_title']).split()\n",
    "top_30_words_in_column(all_words)"
   ]
  },
  {
   "cell_type": "code",
   "execution_count": 7,
   "metadata": {},
   "outputs": [
    {
     "name": "stdout",
     "output_type": "stream",
     "text": [
      "Top 10 words and their frequencies:\n",
      "of: 1150\n",
      "and: 360\n",
      "Other: 292\n",
      "or: 166\n",
      "from: 142\n",
      "examination: 140\n",
      "other: 123\n",
      "Microscopic: 117\n",
      "specimen: 103\n",
      "on: 100\n",
      "with: 91\n",
      "Removal: 74\n",
      "tissue: 68\n",
      "lesion: 67\n",
      "repair: 61\n",
      "not: 54\n",
      "unspecified: 52\n",
      "excision: 52\n",
      "reduction: 52\n",
      "fracture: 52\n",
      "specified: 49\n",
      "procedures: 49\n",
      "bone: 49\n",
      "without: 46\n",
      "Open: 46\n",
      "operations: 44\n",
      "otherwise: 41\n",
      "bone,: 41\n",
      "diagnostic: 36\n",
      "culture: 36\n"
     ]
    }
   ],
   "source": [
    "all_words = ' '.join(data_df['procedure_long_title']).split()\n",
    "top_30_words_in_column(all_words)"
   ]
  },
  {
   "cell_type": "code",
   "execution_count": 8,
   "metadata": {},
   "outputs": [
    {
     "name": "stdout",
     "output_type": "stream",
     "text": [
      "Top 10 words and their frequencies:\n",
      "of: 831\n",
      "and: 339\n",
      "unspecified: 180\n",
      "to: 110\n",
      "neoplasm: 103\n",
      "Unspecified: 102\n",
      "by: 102\n",
      "Poisoning: 98\n",
      "Other: 96\n",
      "without: 88\n",
      "other: 84\n",
      "mention: 76\n",
      "Malignant: 74\n",
      "wound: 69\n",
      "or: 65\n",
      "in: 62\n",
      "with: 55\n",
      "Open: 52\n",
      "effect: 49\n",
      "newborn: 46\n",
      "Injury: 46\n",
      "open: 45\n",
      "due: 44\n",
      "Late: 43\n",
      "specified: 43\n",
      "disorder: 42\n",
      "not: 40\n",
      "elsewhere: 39\n",
      "injury: 39\n",
      "classified: 38\n"
     ]
    }
   ],
   "source": [
    "all_words = ' '.join(data_df['diagnoses_long_title']).split()\n",
    "top_30_words_in_column(all_words)"
   ]
  },
  {
   "cell_type": "code",
   "execution_count": 9,
   "metadata": {},
   "outputs": [
    {
     "name": "stdout",
     "output_type": "stream",
     "text": [
      "Top 10 words and their frequencies:\n",
      "NOS: 223\n",
      "NEC: 133\n",
      "neo: 85\n",
      "of: 77\n",
      "dis: 60\n",
      "Mal: 42\n",
      "NB: 39\n",
      "Late: 37\n",
      "Sprain: 34\n",
      "eff: 31\n",
      "w: 31\n",
      "nerve: 30\n",
      "Benign: 28\n",
      "in: 28\n",
      "inj: 27\n",
      "Open: 27\n",
      "wound: 26\n",
      "disorder: 24\n",
      "Fx: 24\n",
      "effect: 23\n",
      "&: 22\n",
      "wnd: 20\n",
      "Malig: 19\n",
      "Injury: 19\n",
      "NEC/NOS: 18\n",
      "Abn: 18\n",
      "Foreign: 18\n",
      "Blister: 18\n",
      "Insect: 18\n",
      "bite: 18\n"
     ]
    }
   ],
   "source": [
    "all_words = ' '.join(data_df['diagnoses_short_title']).split()\n",
    "top_30_words_in_column(all_words)"
   ]
  },
  {
   "cell_type": "code",
   "execution_count": 10,
   "metadata": {},
   "outputs": [],
   "source": [
    "data_df['icd9_code'] = data_df['icd9_code'].astype(str)\n",
    "data_df['diagnoses_short_title'] = data_df['diagnoses_short_title'].astype(str)\n",
    "data_df['diagnoses_long_title'] = data_df['diagnoses_long_title'].astype(str)\n",
    "data_df['procedure_short_title'] = data_df['procedure_long_title'].astype(str)"
   ]
  },
  {
   "cell_type": "code",
   "execution_count": 11,
   "metadata": {},
   "outputs": [
    {
     "data": {
      "text/html": [
       "<div>\n",
       "<style scoped>\n",
       "    .dataframe tbody tr th:only-of-type {\n",
       "        vertical-align: middle;\n",
       "    }\n",
       "\n",
       "    .dataframe tbody tr th {\n",
       "        vertical-align: top;\n",
       "    }\n",
       "\n",
       "    .dataframe thead th {\n",
       "        text-align: right;\n",
       "    }\n",
       "</style>\n",
       "<table border=\"1\" class=\"dataframe\">\n",
       "  <thead>\n",
       "    <tr style=\"text-align: right;\">\n",
       "      <th></th>\n",
       "      <th>combined_column</th>\n",
       "    </tr>\n",
       "  </thead>\n",
       "  <tbody>\n",
       "    <tr>\n",
       "      <th>0</th>\n",
       "      <td>For the icd9_code 1289, diagnoses is Helminthi...</td>\n",
       "    </tr>\n",
       "    <tr>\n",
       "      <th>1</th>\n",
       "      <td>For the icd9_code 129, diagnoses is Intestin p...</td>\n",
       "    </tr>\n",
       "    <tr>\n",
       "      <th>2</th>\n",
       "      <td>For the icd9_code 1300, diagnoses is Toxoplasm...</td>\n",
       "    </tr>\n",
       "    <tr>\n",
       "      <th>3</th>\n",
       "      <td>For the icd9_code 1301, diagnoses is Toxoplasm...</td>\n",
       "    </tr>\n",
       "    <tr>\n",
       "      <th>4</th>\n",
       "      <td>For the icd9_code 1302, diagnoses is Toxoplasm...</td>\n",
       "    </tr>\n",
       "  </tbody>\n",
       "</table>\n",
       "</div>"
      ],
      "text/plain": [
       "                                     combined_column\n",
       "0  For the icd9_code 1289, diagnoses is Helminthi...\n",
       "1  For the icd9_code 129, diagnoses is Intestin p...\n",
       "2  For the icd9_code 1300, diagnoses is Toxoplasm...\n",
       "3  For the icd9_code 1301, diagnoses is Toxoplasm...\n",
       "4  For the icd9_code 1302, diagnoses is Toxoplasm..."
      ]
     },
     "execution_count": 11,
     "metadata": {},
     "output_type": "execute_result"
    }
   ],
   "source": [
    "def combine_row(row):\n",
    "    output = \"\"\n",
    "    output += \"For the icd9_code \"+row['icd9_code']+\", \"\n",
    "    output += \"diagnoses is \"+row['diagnoses_short_title']+\", \"\n",
    "    output += \"which can be elaborated as \"+row['diagnoses_long_title']+\". \"\n",
    "    output += \"The corresponding procedure required to be done after this diagnoses is \"+row['procedure_short_title']+\", \"\n",
    "    output += \"which can be elaborated as \"+row['procedure_long_title']+\".\"\n",
    "    output += \"\\n\\n\"\n",
    "    return output\n",
    "\n",
    "# Apply the function to each row\n",
    "combined_data = data_df.apply(combine_row, axis=1)\n",
    "\n",
    "# Create a new DataFrame with the combined data\n",
    "data_df = pd.DataFrame(combined_data, columns=['combined_column'])\n",
    "\n",
    "data_df.head()"
   ]
  },
  {
   "cell_type": "code",
   "execution_count": 12,
   "metadata": {},
   "outputs": [
    {
     "data": {
      "text/plain": [
       "(1453, 1)"
      ]
     },
     "execution_count": 12,
     "metadata": {},
     "output_type": "execute_result"
    }
   ],
   "source": [
    "data_df.shape"
   ]
  },
  {
   "cell_type": "code",
   "execution_count": 15,
   "metadata": {},
   "outputs": [
    {
     "name": "stdout",
     "output_type": "stream",
     "text": [
      "Minimum word count: 31\n",
      "Maximum word count: 92\n",
      "Average word count: 47.51\n"
     ]
    }
   ],
   "source": [
    "data_df['word_count'] = data_df['combined_column'].apply(lambda x: len(x.split()))\n",
    "min_length = data_df['word_count'].min()\n",
    "max_length = data_df['word_count'].max()\n",
    "avg_length = data_df['word_count'].mean()\n",
    "\n",
    "print(f\"Minimum word count: {min_length}\")\n",
    "print(f\"Maximum word count: {max_length}\")\n",
    "print(f\"Average word count: {avg_length:.2f}\")"
   ]
  },
  {
   "cell_type": "code",
   "execution_count": 16,
   "metadata": {},
   "outputs": [
    {
     "data": {
      "image/png": "[encoded data removed]",
      "text/plain": [
       "<Figure size 1000x600 with 1 Axes>"
      ]
     },
     "metadata": {},
     "output_type": "display_data"
    }
   ],
   "source": [
    "import matplotlib.pyplot as plt\n",
    "# Define maximum word count to consider for plotting\n",
    "max_word_count_for_plotting = 100\n",
    "\n",
    "# Filter the DataFrame to include only rows within the specified word count range\n",
    "filtered_df = data_df[data_df['word_count'] <= max_word_count_for_plotting]\n",
    "\n",
    "# Define custom bins: 0-10, 10-20, etc., up to the max limit for plotting\n",
    "bin_size = 5\n",
    "bins = list(range(25, max_word_count_for_plotting + bin_size, bin_size))\n",
    "\n",
    "# Plot the histogram without gaps\n",
    "plt.figure(figsize=(10, 6))\n",
    "plt.hist(filtered_df['word_count'], bins=bins, edgecolor='black')\n",
    "plt.xlabel(\"Word Count Range\")\n",
    "plt.ylabel(\"Number of Rows\")\n",
    "plt.title(\"Distribution of Word Counts for rows across MIMIC III corpus (Up to \"+str(max_word_count_for_plotting)+\" Words)\")\n",
    "plt.xticks(bins)  # Ensure x-axis labels match bin edges\n",
    "plt.show()"
   ]
  },
  {
   "cell_type": "code",
   "execution_count": 40,
   "metadata": {},
   "outputs": [
    {
     "name": "stdout",
     "output_type": "stream",
     "text": [
      "3.0\n"
     ]
    }
   ],
   "source": [
    "# Define the range for filtering\n",
    "min_words = 80\n",
    "max_words = 85\n",
    "\n",
    "# Filter the DataFrame for rows where 'B' value falls within the range\n",
    "filtered_df = data_df[(data_df['word_count'] >= min_words) & (data_df['word_count'] <= max_words)]\n",
    "\n",
    "print(filtered_df.size/2)"
   ]
  },
  {
   "cell_type": "code",
   "execution_count": 41,
   "metadata": {},
   "outputs": [
    {
     "data": {
      "text/html": [
       "<div>\n",
       "<style scoped>\n",
       "    .dataframe tbody tr th:only-of-type {\n",
       "        vertical-align: middle;\n",
       "    }\n",
       "\n",
       "    .dataframe tbody tr th {\n",
       "        vertical-align: top;\n",
       "    }\n",
       "\n",
       "    .dataframe thead th {\n",
       "        text-align: right;\n",
       "    }\n",
       "</style>\n",
       "<table border=\"1\" class=\"dataframe\">\n",
       "  <thead>\n",
       "    <tr style=\"text-align: right;\">\n",
       "      <th></th>\n",
       "      <th>combined_column</th>\n",
       "      <th>word_count</th>\n",
       "    </tr>\n",
       "  </thead>\n",
       "  <tbody>\n",
       "    <tr>\n",
       "      <th>963</th>\n",
       "      <td>For the icd9_code 9139, diagnoses is Suprf inj...</td>\n",
       "      <td>82</td>\n",
       "    </tr>\n",
       "    <tr>\n",
       "      <th>1353</th>\n",
       "      <td>For the icd9_code 9106, diagnoses is Foreign b...</td>\n",
       "      <td>80</td>\n",
       "    </tr>\n",
       "    <tr>\n",
       "      <th>1367</th>\n",
       "      <td>For the icd9_code 9126, diagnoses is Foreign b...</td>\n",
       "      <td>80</td>\n",
       "    </tr>\n",
       "  </tbody>\n",
       "</table>\n",
       "</div>"
      ],
      "text/plain": [
       "                                        combined_column  word_count\n",
       "963   For the icd9_code 9139, diagnoses is Suprf inj...          82\n",
       "1353  For the icd9_code 9106, diagnoses is Foreign b...          80\n",
       "1367  For the icd9_code 9126, diagnoses is Foreign b...          80"
      ]
     },
     "execution_count": 41,
     "metadata": {},
     "output_type": "execute_result"
    }
   ],
   "source": [
    "filtered_df.head(int(filtered_df.size/2)) "
   ]
  },
  {
   "attachments": {},
   "cell_type": "markdown",
   "metadata": {},
   "source": [
    "# Healthcare NLP dataset"
   ]
  },
  {
   "cell_type": "code",
   "execution_count": 128,
   "metadata": {},
   "outputs": [
    {
     "name": "stdout",
     "output_type": "stream",
     "text": [
      "no of rows in medquad : 16412\n"
     ]
    }
   ],
   "source": [
    "medquad = pd.read_csv('./data/medquad/medquad.csv')\n",
    "\n",
    "\n",
    "print(\"no of rows in medquad :\", len(medquad))"
   ]
  },
  {
   "cell_type": "code",
   "execution_count": 129,
   "metadata": {},
   "outputs": [
    {
     "data": {
      "text/html": [
       "<div>\n",
       "<style scoped>\n",
       "    .dataframe tbody tr th:only-of-type {\n",
       "        vertical-align: middle;\n",
       "    }\n",
       "\n",
       "    .dataframe tbody tr th {\n",
       "        vertical-align: top;\n",
       "    }\n",
       "\n",
       "    .dataframe thead th {\n",
       "        text-align: right;\n",
       "    }\n",
       "</style>\n",
       "<table border=\"1\" class=\"dataframe\">\n",
       "  <thead>\n",
       "    <tr style=\"text-align: right;\">\n",
       "      <th></th>\n",
       "      <th>question</th>\n",
       "      <th>answer</th>\n",
       "      <th>source</th>\n",
       "      <th>focus_area</th>\n",
       "    </tr>\n",
       "  </thead>\n",
       "  <tbody>\n",
       "    <tr>\n",
       "      <th>0</th>\n",
       "      <td>What is (are) Glaucoma ?</td>\n",
       "      <td>Glaucoma is a group of diseases that can damag...</td>\n",
       "      <td>NIHSeniorHealth</td>\n",
       "      <td>Glaucoma</td>\n",
       "    </tr>\n",
       "    <tr>\n",
       "      <th>1</th>\n",
       "      <td>What causes Glaucoma ?</td>\n",
       "      <td>Nearly 2.7 million people have glaucoma, a lea...</td>\n",
       "      <td>NIHSeniorHealth</td>\n",
       "      <td>Glaucoma</td>\n",
       "    </tr>\n",
       "    <tr>\n",
       "      <th>2</th>\n",
       "      <td>What are the symptoms of Glaucoma ?</td>\n",
       "      <td>Symptoms of Glaucoma  Glaucoma can develop in ...</td>\n",
       "      <td>NIHSeniorHealth</td>\n",
       "      <td>Glaucoma</td>\n",
       "    </tr>\n",
       "    <tr>\n",
       "      <th>3</th>\n",
       "      <td>What are the treatments for Glaucoma ?</td>\n",
       "      <td>Although open-angle glaucoma cannot be cured, ...</td>\n",
       "      <td>NIHSeniorHealth</td>\n",
       "      <td>Glaucoma</td>\n",
       "    </tr>\n",
       "    <tr>\n",
       "      <th>4</th>\n",
       "      <td>What is (are) Glaucoma ?</td>\n",
       "      <td>Glaucoma is a group of diseases that can damag...</td>\n",
       "      <td>NIHSeniorHealth</td>\n",
       "      <td>Glaucoma</td>\n",
       "    </tr>\n",
       "  </tbody>\n",
       "</table>\n",
       "</div>"
      ],
      "text/plain": [
       "                                 question  \\\n",
       "0                What is (are) Glaucoma ?   \n",
       "1                  What causes Glaucoma ?   \n",
       "2     What are the symptoms of Glaucoma ?   \n",
       "3  What are the treatments for Glaucoma ?   \n",
       "4                What is (are) Glaucoma ?   \n",
       "\n",
       "                                              answer           source  \\\n",
       "0  Glaucoma is a group of diseases that can damag...  NIHSeniorHealth   \n",
       "1  Nearly 2.7 million people have glaucoma, a lea...  NIHSeniorHealth   \n",
       "2  Symptoms of Glaucoma  Glaucoma can develop in ...  NIHSeniorHealth   \n",
       "3  Although open-angle glaucoma cannot be cured, ...  NIHSeniorHealth   \n",
       "4  Glaucoma is a group of diseases that can damag...  NIHSeniorHealth   \n",
       "\n",
       "  focus_area  \n",
       "0   Glaucoma  \n",
       "1   Glaucoma  \n",
       "2   Glaucoma  \n",
       "3   Glaucoma  \n",
       "4   Glaucoma  "
      ]
     },
     "execution_count": 129,
     "metadata": {},
     "output_type": "execute_result"
    }
   ],
   "source": [
    "medquad.head()"
   ]
  },
  {
   "cell_type": "code",
   "execution_count": 130,
   "metadata": {},
   "outputs": [],
   "source": [
    "medquad['question'] = medquad['question'].astype(str)\n",
    "medquad['answer'] = medquad['answer'].astype(str)\n",
    "medquad['source'] = medquad['source'].astype(str)\n",
    "medquad['focus_area'] = medquad['focus_area'].astype(str)"
   ]
  },
  {
   "cell_type": "code",
   "execution_count": 131,
   "metadata": {},
   "outputs": [
    {
     "name": "stdout",
     "output_type": "stream",
     "text": [
      "5127\n",
      "9\n"
     ]
    }
   ],
   "source": [
    "focus_area_count = medquad['focus_area'].nunique()\n",
    "source_count = medquad['source'].nunique()\n",
    "print(focus_area_count)\n",
    "print(source_count)"
   ]
  },
  {
   "cell_type": "code",
   "execution_count": 132,
   "metadata": {},
   "outputs": [],
   "source": [
    "pattern = r'[^a-zA-Z0-9\\s\\[\\]\\(\\)\\.\\,\\?]'\n",
    "medquad = medquad.replace(pattern, '',regex=True)"
   ]
  },
  {
   "cell_type": "code",
   "execution_count": 133,
   "metadata": {},
   "outputs": [
    {
     "name": "stdout",
     "output_type": "stream",
     "text": [
      "Number of rows where source is NIHSeniorHealth : 769\n",
      "Number of rows where source is CancerGov : 729\n",
      "Number of rows where source is MPlusHealthTopics : 981\n",
      "Number of rows where source is GARD : 5394\n",
      "Number of rows where source is CDC : 270\n",
      "Number of rows where source is NHLBI : 559\n",
      "Number of rows where source is NINDS : 1088\n",
      "Number of rows where source is GHR : 5430\n",
      "Number of rows where source is NIDDK : 1192\n"
     ]
    }
   ],
   "source": [
    "source_values_list = medquad['source'].unique().tolist()\n",
    "for source_value in source_values_list:\n",
    "    row_count = (medquad['source']==source_value).sum()\n",
    "    print(\"Number of rows where source is \"+source_value+\" : \"+str(row_count))"
   ]
  },
  {
   "cell_type": "code",
   "execution_count": 134,
   "metadata": {},
   "outputs": [
    {
     "name": "stdout",
     "output_type": "stream",
     "text": [
      "5125\n"
     ]
    }
   ],
   "source": [
    "focus_areas = medquad['focus_area'].unique().tolist()\n",
    "print(len(focus_areas))"
   ]
  },
  {
   "cell_type": "code",
   "execution_count": 135,
   "metadata": {},
   "outputs": [
    {
     "name": "stdout",
     "output_type": "stream",
     "text": [
      "                                                   info source  \\\n",
      "0     ('Congenital adrenal hyperplasia (CAH) due to ...   GARD   \n",
      "1     ('15q11.2 microdeletion refers to a chromosome...   GARD   \n",
      "2     ('15q13.3 microdeletion is a chromosomal chang...    GHR   \n",
      "3     ('15q13.3 microdeletion syndrome is a type of ...   GARD   \n",
      "4     ('15q13.3 microduplication syndrome is a rare ...   GARD   \n",
      "...                                                 ...    ...   \n",
      "5120  ('Von Willebrand disease is a bleeding disorde...    GHR   \n",
      "5121  ('Warfarin resistance is a condition in which ...    GHR   \n",
      "5122  ('Warfarin sensitivity is a condition in which...    GHR   \n",
      "5123  ('White sponge nevus is a condition characteri...    GHR   \n",
      "5124  ('Xeroderma pigmentosum, which is commonly kno...    GHR   \n",
      "\n",
      "                             focus_area  \n",
      "0          11betahydroxylase deficiency  \n",
      "1                 15q11.2 microdeletion  \n",
      "2                 15q13.3 microdeletion  \n",
      "3        15q13.3 microdeletion syndrome  \n",
      "4     15q13.3 microduplication syndrome  \n",
      "...                                 ...  \n",
      "5120             von Willebrand disease  \n",
      "5121                warfarin resistance  \n",
      "5122               warfarin sensitivity  \n",
      "5123                 white sponge nevus  \n",
      "5124              xeroderma pigmentosum  \n",
      "\n",
      "[5125 rows x 3 columns]\n"
     ]
    }
   ],
   "source": [
    "grouped = medquad.groupby('focus_area').agg({\n",
    "    'question': list,\n",
    "    'answer': list,\n",
    "    'source': 'first'  # 'C' has the same value for a given 'D', so we can just take the first\n",
    "}).reset_index()\n",
    "\n",
    "# Interleave and combine 'A' and 'B' values\n",
    "grouped['info'] = grouped.apply(lambda row: '\\n'.join(f'{answer}' for answer in zip(row['answer'])), axis=1)\n",
    "\n",
    "# Keep only the combined column and the other relevant columns\n",
    "new_df = grouped[['info', 'source', 'focus_area']]\n",
    "\n",
    "# Rename columns if desired\n",
    "new_df.columns = ['info', 'source', 'focus_area']\n",
    "\n",
    "print(new_df)"
   ]
  },
  {
   "cell_type": "code",
   "execution_count": 136,
   "metadata": {},
   "outputs": [],
   "source": [
    "new_df.to_csv('./data/medquad/modified_medquad.csv', index=False)"
   ]
  },
  {
   "attachments": {},
   "cell_type": "markdown",
   "metadata": {},
   "source": [
    "Read entire modified medquad csv from here"
   ]
  },
  {
   "cell_type": "code",
   "execution_count": 201,
   "metadata": {},
   "outputs": [],
   "source": [
    "new_df = pd.read_csv('./data/medquad/modified_medquad.csv')"
   ]
  },
  {
   "cell_type": "code",
   "execution_count": 202,
   "metadata": {},
   "outputs": [
    {
     "data": {
      "text/html": [
       "<div>\n",
       "<style scoped>\n",
       "    .dataframe tbody tr th:only-of-type {\n",
       "        vertical-align: middle;\n",
       "    }\n",
       "\n",
       "    .dataframe tbody tr th {\n",
       "        vertical-align: top;\n",
       "    }\n",
       "\n",
       "    .dataframe thead th {\n",
       "        text-align: right;\n",
       "    }\n",
       "</style>\n",
       "<table border=\"1\" class=\"dataframe\">\n",
       "  <thead>\n",
       "    <tr style=\"text-align: right;\">\n",
       "      <th></th>\n",
       "      <th>info</th>\n",
       "      <th>source</th>\n",
       "      <th>focus_area</th>\n",
       "    </tr>\n",
       "  </thead>\n",
       "  <tbody>\n",
       "    <tr>\n",
       "      <th>0</th>\n",
       "      <td>('Congenital adrenal hyperplasia (CAH) due to ...</td>\n",
       "      <td>GARD</td>\n",
       "      <td>11betahydroxylase deficiency</td>\n",
       "    </tr>\n",
       "    <tr>\n",
       "      <th>1</th>\n",
       "      <td>('15q11.2 microdeletion refers to a chromosome...</td>\n",
       "      <td>GARD</td>\n",
       "      <td>15q11.2 microdeletion</td>\n",
       "    </tr>\n",
       "    <tr>\n",
       "      <th>2</th>\n",
       "      <td>('15q13.3 microdeletion is a chromosomal chang...</td>\n",
       "      <td>GHR</td>\n",
       "      <td>15q13.3 microdeletion</td>\n",
       "    </tr>\n",
       "    <tr>\n",
       "      <th>3</th>\n",
       "      <td>('15q13.3 microdeletion syndrome is a type of ...</td>\n",
       "      <td>GARD</td>\n",
       "      <td>15q13.3 microdeletion syndrome</td>\n",
       "    </tr>\n",
       "    <tr>\n",
       "      <th>4</th>\n",
       "      <td>('15q13.3 microduplication syndrome is a rare ...</td>\n",
       "      <td>GARD</td>\n",
       "      <td>15q13.3 microduplication syndrome</td>\n",
       "    </tr>\n",
       "  </tbody>\n",
       "</table>\n",
       "</div>"
      ],
      "text/plain": [
       "                                                info source  \\\n",
       "0  ('Congenital adrenal hyperplasia (CAH) due to ...   GARD   \n",
       "1  ('15q11.2 microdeletion refers to a chromosome...   GARD   \n",
       "2  ('15q13.3 microdeletion is a chromosomal chang...    GHR   \n",
       "3  ('15q13.3 microdeletion syndrome is a type of ...   GARD   \n",
       "4  ('15q13.3 microduplication syndrome is a rare ...   GARD   \n",
       "\n",
       "                          focus_area  \n",
       "0       11betahydroxylase deficiency  \n",
       "1              15q11.2 microdeletion  \n",
       "2              15q13.3 microdeletion  \n",
       "3     15q13.3 microdeletion syndrome  \n",
       "4  15q13.3 microduplication syndrome  "
      ]
     },
     "execution_count": 202,
     "metadata": {},
     "output_type": "execute_result"
    }
   ],
   "source": [
    "new_df.head()"
   ]
  },
  {
   "attachments": {},
   "cell_type": "markdown",
   "metadata": {},
   "source": [
    "make sure total rows 5125"
   ]
  },
  {
   "cell_type": "code",
   "execution_count": 203,
   "metadata": {},
   "outputs": [
    {
     "data": {
      "text/html": [
       "<div>\n",
       "<style scoped>\n",
       "    .dataframe tbody tr th:only-of-type {\n",
       "        vertical-align: middle;\n",
       "    }\n",
       "\n",
       "    .dataframe tbody tr th {\n",
       "        vertical-align: top;\n",
       "    }\n",
       "\n",
       "    .dataframe thead th {\n",
       "        text-align: right;\n",
       "    }\n",
       "</style>\n",
       "<table border=\"1\" class=\"dataframe\">\n",
       "  <thead>\n",
       "    <tr style=\"text-align: right;\">\n",
       "      <th></th>\n",
       "      <th>info</th>\n",
       "      <th>source</th>\n",
       "      <th>focus_area</th>\n",
       "    </tr>\n",
       "  </thead>\n",
       "  <tbody>\n",
       "    <tr>\n",
       "      <th>5120</th>\n",
       "      <td>('Von Willebrand disease is a bleeding disorde...</td>\n",
       "      <td>GHR</td>\n",
       "      <td>von Willebrand disease</td>\n",
       "    </tr>\n",
       "    <tr>\n",
       "      <th>5121</th>\n",
       "      <td>('Warfarin resistance is a condition in which ...</td>\n",
       "      <td>GHR</td>\n",
       "      <td>warfarin resistance</td>\n",
       "    </tr>\n",
       "    <tr>\n",
       "      <th>5122</th>\n",
       "      <td>('Warfarin sensitivity is a condition in which...</td>\n",
       "      <td>GHR</td>\n",
       "      <td>warfarin sensitivity</td>\n",
       "    </tr>\n",
       "    <tr>\n",
       "      <th>5123</th>\n",
       "      <td>('White sponge nevus is a condition characteri...</td>\n",
       "      <td>GHR</td>\n",
       "      <td>white sponge nevus</td>\n",
       "    </tr>\n",
       "    <tr>\n",
       "      <th>5124</th>\n",
       "      <td>('Xeroderma pigmentosum, which is commonly kno...</td>\n",
       "      <td>GHR</td>\n",
       "      <td>xeroderma pigmentosum</td>\n",
       "    </tr>\n",
       "  </tbody>\n",
       "</table>\n",
       "</div>"
      ],
      "text/plain": [
       "                                                   info source  \\\n",
       "5120  ('Von Willebrand disease is a bleeding disorde...    GHR   \n",
       "5121  ('Warfarin resistance is a condition in which ...    GHR   \n",
       "5122  ('Warfarin sensitivity is a condition in which...    GHR   \n",
       "5123  ('White sponge nevus is a condition characteri...    GHR   \n",
       "5124  ('Xeroderma pigmentosum, which is commonly kno...    GHR   \n",
       "\n",
       "                  focus_area  \n",
       "5120  von Willebrand disease  \n",
       "5121     warfarin resistance  \n",
       "5122    warfarin sensitivity  \n",
       "5123      white sponge nevus  \n",
       "5124   xeroderma pigmentosum  "
      ]
     },
     "execution_count": 203,
     "metadata": {},
     "output_type": "execute_result"
    }
   ],
   "source": [
    "new_df.tail()"
   ]
  },
  {
   "attachments": {},
   "cell_type": "markdown",
   "metadata": {},
   "source": [
    "choose ur subset here"
   ]
  },
  {
   "cell_type": "code",
   "execution_count": 204,
   "metadata": {},
   "outputs": [],
   "source": [
    "new_df = new_df.iloc[0:131]"
   ]
  },
  {
   "cell_type": "code",
   "execution_count": 205,
   "metadata": {},
   "outputs": [
    {
     "name": "stdout",
     "output_type": "stream",
     "text": [
      "Minimum word count: 57\n",
      "Maximum word count: 4712\n",
      "Average word count: 572.08\n"
     ]
    }
   ],
   "source": [
    "new_df['word_count'] = new_df['info'].apply(lambda x: len(x.split()))\n",
    "min_length = new_df['word_count'].min()\n",
    "max_length = new_df['word_count'].max()\n",
    "avg_length = new_df['word_count'].mean()\n",
    "\n",
    "print(f\"Minimum word count: {min_length}\")\n",
    "print(f\"Maximum word count: {max_length}\")\n",
    "print(f\"Average word count: {avg_length:.2f}\")"
   ]
  },
  {
   "cell_type": "code",
   "execution_count": 225,
   "metadata": {},
   "outputs": [
    {
     "data": {
      "image/png": "[encoded data removed]",
      "text/plain": [
       "<Figure size 1500x900 with 1 Axes>"
      ]
     },
     "metadata": {},
     "output_type": "display_data"
    }
   ],
   "source": [
    "import matplotlib.pyplot as plt\n",
    "# Define maximum word count to consider for plotting\n",
    "max_word_count_for_plotting = 2200\n",
    "\n",
    "# Filter the DataFrame to include only rows within the specified word count range\n",
    "filtered_df = new_df[new_df['word_count'] <= max_word_count_for_plotting]\n",
    "\n",
    "# Define custom bins: 0-10, 10-20, etc., up to the max limit for plotting\n",
    "bin_size = 100\n",
    "bins = list(range(0, max_word_count_for_plotting + bin_size, bin_size))\n",
    "\n",
    "# Plot the histogram without gaps\n",
    "plt.figure(figsize=(15, 9))\n",
    "plt.hist(filtered_df['word_count'], bins=bins, edgecolor='black')\n",
    "plt.xlabel(\"Word Count Range\")\n",
    "plt.ylabel(\"Number of Rows\")\n",
    "plt.title(\"Distribution of Word Counts for paragraphs across Medquad corpus (Up to \"+str(max_word_count_for_plotting)+\" Words)\")\n",
    "plt.xticks(bins)  # Ensure x-axis labels match bin edges\n",
    "plt.show()"
   ]
  },
  {
   "cell_type": "code",
   "execution_count": 227,
   "metadata": {},
   "outputs": [
    {
     "name": "stdout",
     "output_type": "stream",
     "text": [
      "1.0\n"
     ]
    }
   ],
   "source": [
    "# Define the range for filtering\n",
    "min_words = 3000\n",
    "max_words = 4000\n",
    "\n",
    "# Filter the DataFrame for rows where 'B' value falls within the range\n",
    "filtered_df = new_df[(new_df['word_count'] >= min_words) & (new_df['word_count'] <= max_words)]\n",
    "\n",
    "print(filtered_df.size/5)"
   ]
  },
  {
   "cell_type": "code",
   "execution_count": 228,
   "metadata": {},
   "outputs": [
    {
     "data": {
      "text/html": [
       "<div>\n",
       "<style scoped>\n",
       "    .dataframe tbody tr th:only-of-type {\n",
       "        vertical-align: middle;\n",
       "    }\n",
       "\n",
       "    .dataframe tbody tr th {\n",
       "        vertical-align: top;\n",
       "    }\n",
       "\n",
       "    .dataframe thead th {\n",
       "        text-align: right;\n",
       "    }\n",
       "</style>\n",
       "<table border=\"1\" class=\"dataframe\">\n",
       "  <thead>\n",
       "    <tr style=\"text-align: right;\">\n",
       "      <th></th>\n",
       "      <th>info</th>\n",
       "      <th>source</th>\n",
       "      <th>focus_area</th>\n",
       "      <th>word_count</th>\n",
       "      <th>question</th>\n",
       "    </tr>\n",
       "  </thead>\n",
       "  <tbody>\n",
       "    <tr>\n",
       "      <th>64</th>\n",
       "      <td>('Key Points\\n                     AIDSrelated...</td>\n",
       "      <td>CancerGov</td>\n",
       "      <td>AIDSRelated Lymphoma</td>\n",
       "      <td>3727</td>\n",
       "      <td>('Key Points\\n                     AIDSrelated...</td>\n",
       "    </tr>\n",
       "  </tbody>\n",
       "</table>\n",
       "</div>"
      ],
      "text/plain": [
       "                                                 info     source  \\\n",
       "64  ('Key Points\\n                     AIDSrelated...  CancerGov   \n",
       "\n",
       "              focus_area  word_count  \\\n",
       "64  AIDSRelated Lymphoma        3727   \n",
       "\n",
       "                                             question  \n",
       "64  ('Key Points\\n                     AIDSrelated...  "
      ]
     },
     "execution_count": 228,
     "metadata": {},
     "output_type": "execute_result"
    }
   ],
   "source": [
    "# Display the filtered DataFrame\n",
    "filtered_df.head(int(filtered_df.size/5))"
   ]
  },
  {
   "cell_type": "code",
   "execution_count": 215,
   "metadata": {},
   "outputs": [
    {
     "name": "stdout",
     "output_type": "stream",
     "text": [
      "info          object\n",
      "source        object\n",
      "focus_area    object\n",
      "word_count     int64\n",
      "question      object\n",
      "dtype: object\n"
     ]
    }
   ],
   "source": [
    "print(new_df.dtypes)"
   ]
  },
  {
   "cell_type": "code",
   "execution_count": 216,
   "metadata": {},
   "outputs": [],
   "source": [
    "new_df['question'] = new_df['info'].astype(str)\n",
    "new_df['source'] = new_df['source'].astype(str)\n",
    "new_df['focus_area'] = new_df['focus_area'].astype(str)"
   ]
  },
  {
   "cell_type": "code",
   "execution_count": 217,
   "metadata": {},
   "outputs": [],
   "source": [
    "import io\n",
    "file_path = \"./documents/medquad_sample.txt\"\n",
    "with io.open(file_path, 'w',encoding='utf-8') as file:\n",
    "    for index, row in new_df.iterrows():\n",
    "        output = \"\"\n",
    "        output += \"Now we shall discuss about the focus area : \\\"\"+row['focus_area']+\"\\\" \"\n",
    "        output += \"Source for this information is \\\"\"+row['source']+\"\\\".\\n\\n\"\n",
    "        output += row['info']\n",
    "        output += \"\\n\\n\"\n",
    "        file.write(output)"
   ]
  },
  {
   "cell_type": "code",
   "execution_count": null,
   "metadata": {},
   "outputs": [],
   "source": []
  }
 ],
 "metadata": {
  "kernelspec": {
   "display_name": "genai_venv",
   "language": "python",
   "name": "python3"
  },
  "language_info": {
   "codemirror_mode": {
    "name": "ipython",
    "version": 3
   },
   "file_extension": ".py",
   "mimetype": "text/x-python",
   "name": "python",
   "nbconvert_exporter": "python",
   "pygments_lexer": "ipython3",
   "version": "3.9.13"
  },
  "orig_nbformat": 4
 },
 "nbformat": 4,
 "nbformat_minor": 2
}
